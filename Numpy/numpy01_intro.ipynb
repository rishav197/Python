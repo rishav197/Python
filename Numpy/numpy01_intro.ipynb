{
  "nbformat": 4,
  "nbformat_minor": 0,
  "metadata": {
    "colab": {
      "provenance": [],
      "authorship_tag": "ABX9TyPcG9oA/03TqNOW1dsjrVu0"
    },
    "kernelspec": {
      "name": "python3",
      "display_name": "Python 3"
    },
    "language_info": {
      "name": "python"
    }
  },
  "cells": [
    {
      "cell_type": "code",
      "execution_count": 50,
      "metadata": {
        "id": "YyxI9wHjbv2F"
      },
      "outputs": [],
      "source": [
        "import numpy as np\n",
        "import sys\n",
        "import time"
      ]
    },
    {
      "cell_type": "code",
      "source": [
        "a = np.array([10, 20, 30])"
      ],
      "metadata": {
        "id": "PkZZATyEcGFD"
      },
      "execution_count": 51,
      "outputs": []
    },
    {
      "cell_type": "code",
      "source": [
        "a[0], a[1]"
      ],
      "metadata": {
        "colab": {
          "base_uri": "https://localhost:8080/"
        },
        "id": "ZRER5RRFcGBj",
        "outputId": "a61b04ef-a9f6-4f0c-f55d-94a890936d73"
      },
      "execution_count": 52,
      "outputs": [
        {
          "output_type": "execute_result",
          "data": {
            "text/plain": [
              "(np.int64(10), np.int64(20))"
            ]
          },
          "metadata": {},
          "execution_count": 52
        }
      ]
    },
    {
      "cell_type": "markdown",
      "source": [
        "**3 main benefits of numpy array over a python list,** <br>\n",
        "\n",
        "1. Less Memory\n",
        "2. Fast\n",
        "3. convinient"
      ],
      "metadata": {
        "id": "KUgW8HwYcF-t"
      }
    },
    {
      "cell_type": "code",
      "source": [
        "l = range(1000)\n",
        "print(sys.getsizeof(5)*len(l))"
      ],
      "metadata": {
        "colab": {
          "base_uri": "https://localhost:8080/"
        },
        "id": "_bsxG2DNcF8H",
        "outputId": "142efe69-f849-472b-aff8-450ec24a5368"
      },
      "execution_count": 53,
      "outputs": [
        {
          "output_type": "stream",
          "name": "stdout",
          "text": [
            "28000\n"
          ]
        }
      ]
    },
    {
      "cell_type": "code",
      "source": [
        "array = np.arange(1000)\n",
        "# print(array)\n",
        "print(array.size*array.itemsize)"
      ],
      "metadata": {
        "colab": {
          "base_uri": "https://localhost:8080/"
        },
        "id": "qa-8FYUgeH_M",
        "outputId": "d84f0d49-61f6-433b-8109-7e6f4bf35ae9"
      },
      "execution_count": 54,
      "outputs": [
        {
          "output_type": "stream",
          "name": "stdout",
          "text": [
            "8000\n"
          ]
        }
      ]
    },
    {
      "cell_type": "markdown",
      "source": [
        "We will add two list of numbers using python list and numpy array and compare them"
      ],
      "metadata": {
        "id": "2SdT5PJKeH70"
      }
    },
    {
      "cell_type": "code",
      "source": [
        "size = 1000\n",
        "\n",
        "l1 = range(size)\n",
        "l2 = range(size)\n",
        "\n",
        "# python list\n",
        "start = time.time()\n",
        "result = [(x+y) for x,y in zip(l1,l2)]\n",
        "print(\"python list took: \", (time.time()-start)*1000)"
      ],
      "metadata": {
        "colab": {
          "base_uri": "https://localhost:8080/"
        },
        "id": "3E-9zhIegKhw",
        "outputId": "64fd1b48-974c-4b67-b3b3-21237a326d66"
      },
      "execution_count": 55,
      "outputs": [
        {
          "output_type": "stream",
          "name": "stdout",
          "text": [
            "python list took:  0.38242340087890625\n"
          ]
        }
      ]
    },
    {
      "cell_type": "code",
      "source": [
        "a1 = np.arange(size)\n",
        "a2 = np.arange(size)\n",
        "\n",
        "# numpy array\n",
        "start = time.time()\n",
        "result = a1 + a2\n",
        "print(\"numpy took: \", (time.time()-start)*1000)"
      ],
      "metadata": {
        "colab": {
          "base_uri": "https://localhost:8080/"
        },
        "id": "mv5GsL8AgjEX",
        "outputId": "1ff4d939-ee0e-429f-acd3-52fd77370a56"
      },
      "execution_count": 56,
      "outputs": [
        {
          "output_type": "stream",
          "name": "stdout",
          "text": [
            "numpy took:  0.10919570922851562\n"
          ]
        }
      ]
    },
    {
      "cell_type": "code",
      "source": [],
      "metadata": {
        "id": "AN-LK0img89D"
      },
      "execution_count": 56,
      "outputs": []
    },
    {
      "cell_type": "code",
      "source": [
        "# Numpy Operations"
      ],
      "metadata": {
        "id": "YkKXA7gag85k"
      },
      "execution_count": 57,
      "outputs": []
    },
    {
      "cell_type": "code",
      "source": [
        "a1  = np.array([1, 2, 3])\n",
        "a2  = np.array([4, 5, 6])\n",
        "\n",
        "a1 + a2"
      ],
      "metadata": {
        "colab": {
          "base_uri": "https://localhost:8080/"
        },
        "id": "eMwYKb2hkoSk",
        "outputId": "d1f4e9a8-756e-491a-eae6-dbccdfeda3e6"
      },
      "execution_count": 60,
      "outputs": [
        {
          "output_type": "execute_result",
          "data": {
            "text/plain": [
              "array([5, 7, 9])"
            ]
          },
          "metadata": {},
          "execution_count": 60
        }
      ]
    },
    {
      "cell_type": "code",
      "source": [
        "a2 - a1"
      ],
      "metadata": {
        "colab": {
          "base_uri": "https://localhost:8080/"
        },
        "id": "YFZOVafvg82c",
        "outputId": "b4cfb2b3-096e-4357-a9cb-248146e2142f"
      },
      "execution_count": 61,
      "outputs": [
        {
          "output_type": "execute_result",
          "data": {
            "text/plain": [
              "array([3, 3, 3])"
            ]
          },
          "metadata": {},
          "execution_count": 61
        }
      ]
    },
    {
      "cell_type": "code",
      "source": [
        "a1 * a2"
      ],
      "metadata": {
        "colab": {
          "base_uri": "https://localhost:8080/"
        },
        "id": "VyDM0B1fk6-f",
        "outputId": "69613d76-0f31-4d9c-b2b5-50ad4a44c7fb"
      },
      "execution_count": 62,
      "outputs": [
        {
          "output_type": "execute_result",
          "data": {
            "text/plain": [
              "array([ 4, 10, 18])"
            ]
          },
          "metadata": {},
          "execution_count": 62
        }
      ]
    },
    {
      "cell_type": "code",
      "source": [
        "a1/a2"
      ],
      "metadata": {
        "colab": {
          "base_uri": "https://localhost:8080/"
        },
        "id": "CixGEQtWk669",
        "outputId": "70203043-9b1c-40cb-bc52-7780b42dc91d"
      },
      "execution_count": 63,
      "outputs": [
        {
          "output_type": "execute_result",
          "data": {
            "text/plain": [
              "array([0.25, 0.4 , 0.5 ])"
            ]
          },
          "metadata": {},
          "execution_count": 63
        }
      ]
    },
    {
      "cell_type": "code",
      "source": [],
      "metadata": {
        "id": "aFb2J8v0lFil"
      },
      "execution_count": null,
      "outputs": []
    }
  ]
}