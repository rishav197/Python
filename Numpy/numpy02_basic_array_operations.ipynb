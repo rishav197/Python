{
  "cells": [
    {
      "cell_type": "code",
      "execution_count": 197,
      "metadata": {
        "id": "3aT8AEC9oxD_"
      },
      "outputs": [],
      "source": [
        "import numpy as np"
      ]
    },
    {
      "cell_type": "code",
      "execution_count": 198,
      "metadata": {
        "id": "8poL5T9Jo3Tl"
      },
      "outputs": [],
      "source": [
        "a = np.array([5, 6, 9])"
      ]
    },
    {
      "cell_type": "code",
      "execution_count": 199,
      "metadata": {
        "colab": {
          "base_uri": "https://localhost:8080/"
        },
        "id": "NZRjDE3mo3A0",
        "outputId": "e6cef28d-5275-4d0b-dbf0-536edad34c0a"
      },
      "outputs": [
        {
          "name": "stdout",
          "output_type": "stream",
          "text": [
            "5\n",
            "9\n",
            "1\n"
          ]
        }
      ],
      "source": [
        "print(a[0])\n",
        "print(a[2])\n",
        "print(a.ndim)"
      ]
    },
    {
      "cell_type": "code",
      "execution_count": 200,
      "metadata": {
        "colab": {
          "base_uri": "https://localhost:8080/"
        },
        "id": "52cQ7HCUo29R",
        "outputId": "6b62d2ec-f321-4255-c418-faac50c38c2e"
      },
      "outputs": [
        {
          "name": "stdout",
          "output_type": "stream",
          "text": [
            "[[1 2]\n",
            " [3 4]\n",
            " [5 6]]\n",
            "2\n"
          ]
        }
      ],
      "source": [
        "a = np.array([[1, 2], [3, 4], [5, 6]])\n",
        "print(a)\n",
        "print(a.ndim)"
      ]
    },
    {
      "cell_type": "code",
      "execution_count": 201,
      "metadata": {
        "colab": {
          "base_uri": "https://localhost:8080/"
        },
        "id": "L9HlKaFBo26L",
        "outputId": "170eb827-0998-4144-f3e1-642fbbfa9cbe"
      },
      "outputs": [
        {
          "name": "stdout",
          "output_type": "stream",
          "text": [
            "8\n",
            "int64\n"
          ]
        }
      ],
      "source": [
        "print(a.itemsize)\n",
        "print(a.dtype)"
      ]
    },
    {
      "cell_type": "code",
      "execution_count": 202,
      "metadata": {
        "id": "IZijt5Ryo23d"
      },
      "outputs": [],
      "source": [
        "a = np.array([[1, 2], [3, 4], [5, 6]], dtype=np.float64)"
      ]
    },
    {
      "cell_type": "code",
      "execution_count": 203,
      "metadata": {
        "colab": {
          "base_uri": "https://localhost:8080/"
        },
        "id": "JyEpkVbWqDEd",
        "outputId": "f9f7921b-918d-4a1e-f517-b10fc3e7cd62"
      },
      "outputs": [
        {
          "data": {
            "text/plain": [
              "array([[1., 2.],\n",
              "       [3., 4.],\n",
              "       [5., 6.]])"
            ]
          },
          "execution_count": 203,
          "metadata": {},
          "output_type": "execute_result"
        }
      ],
      "source": [
        "a"
      ]
    },
    {
      "cell_type": "code",
      "execution_count": 204,
      "metadata": {
        "colab": {
          "base_uri": "https://localhost:8080/"
        },
        "id": "5STKxRDNqFFg",
        "outputId": "27b608fa-58a0-4d0d-92fa-fa7d5f7ef678"
      },
      "outputs": [
        {
          "name": "stdout",
          "output_type": "stream",
          "text": [
            "8\n",
            "2\n",
            "6\n",
            "(3, 2)\n",
            "float64\n"
          ]
        }
      ],
      "source": [
        "print(a.itemsize)\n",
        "print(a.ndim)\n",
        "print(a.size) #size = no. of elements (no. of rows x no. of cols)\n",
        "print(a.shape)\n",
        "print(a.dtype)"
      ]
    },
    {
      "cell_type": "code",
      "execution_count": 205,
      "metadata": {
        "colab": {
          "base_uri": "https://localhost:8080/"
        },
        "id": "TmlRO8T6qHov",
        "outputId": "8411a150-9173-4891-939d-ba308d0ceda0"
      },
      "outputs": [
        {
          "data": {
            "text/plain": [
              "array([[1.+0.j, 2.+0.j],\n",
              "       [3.+0.j, 4.+0.j],\n",
              "       [5.+0.j, 6.+0.j]])"
            ]
          },
          "execution_count": 205,
          "metadata": {},
          "output_type": "execute_result"
        }
      ],
      "source": [
        "a = np.array([[1, 2], [3, 4], [5, 6]], dtype=complex)\n",
        "a"
      ]
    },
    {
      "cell_type": "code",
      "execution_count": 206,
      "metadata": {
        "colab": {
          "base_uri": "https://localhost:8080/"
        },
        "id": "MBBPcrOUqi7S",
        "outputId": "32a30625-10d0-4f89-fc5e-e64de8f6199e"
      },
      "outputs": [
        {
          "data": {
            "text/plain": [
              "array([[0., 0., 0., 0.],\n",
              "       [0., 0., 0., 0.],\n",
              "       [0., 0., 0., 0.]])"
            ]
          },
          "execution_count": 206,
          "metadata": {},
          "output_type": "execute_result"
        }
      ],
      "source": [
        "a = np.zeros((3, 4))\n",
        "a"
      ]
    },
    {
      "cell_type": "code",
      "execution_count": 207,
      "metadata": {
        "colab": {
          "base_uri": "https://localhost:8080/"
        },
        "id": "gtNb7mcCqi36",
        "outputId": "ac4925aa-3a1b-429b-af9a-662872105bfa"
      },
      "outputs": [
        {
          "data": {
            "text/plain": [
              "array([[1., 1., 1., 1.],\n",
              "       [1., 1., 1., 1.],\n",
              "       [1., 1., 1., 1.]])"
            ]
          },
          "execution_count": 207,
          "metadata": {},
          "output_type": "execute_result"
        }
      ],
      "source": [
        "a = np.ones((3, 4))\n",
        "a"
      ]
    },
    {
      "cell_type": "code",
      "execution_count": 208,
      "metadata": {
        "colab": {
          "base_uri": "https://localhost:8080/"
        },
        "id": "RTjZuHZCuT6E",
        "outputId": "420db9db-b7bd-4381-db68-358bc36a2b17"
      },
      "outputs": [
        {
          "name": "stdout",
          "output_type": "stream",
          "text": [
            "0\n",
            "4\n"
          ]
        }
      ],
      "source": [
        "# list\n",
        "l = range(5)\n",
        "\n",
        "print(l[0])\n",
        "print(l[4])"
      ]
    },
    {
      "cell_type": "code",
      "execution_count": 209,
      "metadata": {
        "colab": {
          "base_uri": "https://localhost:8080/"
        },
        "id": "HLGwuVnGuT2m",
        "outputId": "c241ba7a-9089-4044-8964-75303b9b4f2b"
      },
      "outputs": [
        {
          "data": {
            "text/plain": [
              "array([1, 2, 3, 4])"
            ]
          },
          "execution_count": 209,
          "metadata": {},
          "output_type": "execute_result"
        }
      ],
      "source": [
        "np.arange(1, 5)"
      ]
    },
    {
      "cell_type": "code",
      "execution_count": 210,
      "metadata": {
        "colab": {
          "base_uri": "https://localhost:8080/"
        },
        "id": "hI6qm98iuTzv",
        "outputId": "6f35af68-8191-48c5-c2fe-4fc0f8c3581f"
      },
      "outputs": [
        {
          "data": {
            "text/plain": [
              "array([1, 3])"
            ]
          },
          "execution_count": 210,
          "metadata": {},
          "output_type": "execute_result"
        }
      ],
      "source": [
        "np.arange(1, 5, 2)"
      ]
    },
    {
      "cell_type": "code",
      "execution_count": 211,
      "metadata": {
        "colab": {
          "base_uri": "https://localhost:8080/"
        },
        "id": "CRUF3GAMqi0v",
        "outputId": "ddd1dbc7-5799-4a9f-ec63-a800ef9d033a"
      },
      "outputs": [
        {
          "name": "stdout",
          "output_type": "stream",
          "text": [
            "[1.         1.44444444 1.88888889 2.33333333 2.77777778 3.22222222\n",
            " 3.66666667 4.11111111 4.55555556 5.        ]\n"
          ]
        }
      ],
      "source": [
        "a = np.linspace(1, 5, 10) # start:stop:total_elements\n",
        "print(a)"
      ]
    },
    {
      "cell_type": "code",
      "execution_count": 212,
      "metadata": {
        "colab": {
          "base_uri": "https://localhost:8080/"
        },
        "id": "I8ltFYAXqix0",
        "outputId": "0b7f77a9-b931-40cb-cdf3-2617ab2e7b7b"
      },
      "outputs": [
        {
          "name": "stdout",
          "output_type": "stream",
          "text": [
            "[1. 2. 3. 4. 5.]\n"
          ]
        }
      ],
      "source": [
        "a = np.linspace(1, 5, 5)\n",
        "print(a)"
      ]
    },
    {
      "cell_type": "code",
      "execution_count": 213,
      "metadata": {
        "colab": {
          "base_uri": "https://localhost:8080/"
        },
        "id": "NxqJxtOzwVKA",
        "outputId": "644b19ac-025d-47da-ae47-39564c92bb9e"
      },
      "outputs": [
        {
          "name": "stdout",
          "output_type": "stream",
          "text": [
            "[1.         1.21052632 1.42105263 1.63157895 1.84210526 2.05263158\n",
            " 2.26315789 2.47368421 2.68421053 2.89473684 3.10526316 3.31578947\n",
            " 3.52631579 3.73684211 3.94736842 4.15789474 4.36842105 4.57894737\n",
            " 4.78947368 5.        ]\n"
          ]
        }
      ],
      "source": [
        "a = np.linspace(1, 5, 20)\n",
        "print(a)"
      ]
    },
    {
      "cell_type": "markdown",
      "metadata": {
        "id": "NDCDqoKTwZS4"
      },
      "source": [
        "### Reshape"
      ]
    },
    {
      "cell_type": "code",
      "execution_count": 214,
      "metadata": {
        "colab": {
          "base_uri": "https://localhost:8080/"
        },
        "id": "upRyQ8qqwf0S",
        "outputId": "6f8b3f7d-9c8e-4c79-82bb-2f4dd42e4168"
      },
      "outputs": [
        {
          "name": "stdout",
          "output_type": "stream",
          "text": [
            "[[1 2]\n",
            " [3 4]\n",
            " [5 6]]\n",
            "(3, 2)\n",
            "\n",
            "\n",
            "[[1 2 3]\n",
            " [4 5 6]]\n",
            "(2, 3)\n",
            "\n",
            "\n",
            "[[1]\n",
            " [2]\n",
            " [3]\n",
            " [4]\n",
            " [5]\n",
            " [6]]\n",
            "(6, 1)\n",
            "\n",
            "\n",
            "[1 2 3 4 5 6]\n",
            "(6,)\n"
          ]
        }
      ],
      "source": [
        "a = np.array([[1,2], [3,4], [5,6]])\n",
        "print(a)\n",
        "print(a.shape)\n",
        "print('\\n')\n",
        "\n",
        "a = a.reshape(2,3)\n",
        "print(a)\n",
        "print(a.shape)\n",
        "print('\\n')\n",
        "\n",
        "a = a.reshape(6,1)\n",
        "print(a)\n",
        "print(a.shape)\n",
        "print('\\n')\n",
        "\n",
        "a = a.ravel() #flatten any array into 1d array\n",
        "print(a)\n",
        "print(a.shape)"
      ]
    },
    {
      "cell_type": "markdown",
      "metadata": {
        "id": "aeyNSPACy9VB"
      },
      "source": [
        "###Min/Max and Sum"
      ]
    },
    {
      "cell_type": "code",
      "execution_count": 216,
      "metadata": {
        "colab": {
          "base_uri": "https://localhost:8080/"
        },
        "id": "h5abXdkfwgp-",
        "outputId": "0a0d67ad-81b6-4175-e36b-9baca4db11da"
      },
      "outputs": [
        {
          "name": "stdout",
          "output_type": "stream",
          "text": [
            "[[1 2]\n",
            " [3 4]\n",
            " [5 6]]\n",
            "(3, 2)\n"
          ]
        }
      ],
      "source": [
        "a = np.array([[1,2], [3,4], [5,6]])\n",
        "print(a)\n",
        "print(a.shape)\n"
      ]
    },
    {
      "cell_type": "code",
      "execution_count": 217,
      "metadata": {
        "colab": {
          "base_uri": "https://localhost:8080/"
        },
        "id": "tgJdqnmrwgmm",
        "outputId": "00c92da3-1ad7-4b15-d90a-7f27f89f472f"
      },
      "outputs": [
        {
          "data": {
            "text/plain": [
              "np.int64(1)"
            ]
          },
          "execution_count": 217,
          "metadata": {},
          "output_type": "execute_result"
        }
      ],
      "source": [
        "a.min()"
      ]
    },
    {
      "cell_type": "code",
      "execution_count": 218,
      "metadata": {
        "colab": {
          "base_uri": "https://localhost:8080/"
        },
        "id": "lK5nA8ZWzOiC",
        "outputId": "6bbd513f-b4c2-4090-db08-59cbdcfafe42"
      },
      "outputs": [
        {
          "data": {
            "text/plain": [
              "np.int64(6)"
            ]
          },
          "execution_count": 218,
          "metadata": {},
          "output_type": "execute_result"
        }
      ],
      "source": [
        "a.max()"
      ]
    },
    {
      "cell_type": "code",
      "execution_count": 220,
      "metadata": {
        "colab": {
          "base_uri": "https://localhost:8080/"
        },
        "id": "bH00MopjzQHj",
        "outputId": "668a0a83-d2c2-466d-8079-8c4bb0898e26"
      },
      "outputs": [
        {
          "data": {
            "text/plain": [
              "np.int64(21)"
            ]
          },
          "execution_count": 220,
          "metadata": {},
          "output_type": "execute_result"
        }
      ],
      "source": [
        "a.sum() #sum of all elements of the arr"
      ]
    },
    {
      "cell_type": "markdown",
      "metadata": {
        "id": "kOyOqNPBzmFe"
      },
      "source": [
        "<img src=\"https://raw.githubusercontent.com/rishav197/Python/main/Numpy/numpy_axis.jpg\" alt=\"numpy axis\" width=\"300\">"
      ]
    },
    {
      "cell_type": "code",
      "execution_count": 223,
      "metadata": {
        "colab": {
          "base_uri": "https://localhost:8080/"
        },
        "id": "VoV3skY0zToR",
        "outputId": "d72b3b00-61e4-4d49-ab04-a17448f4e6f0"
      },
      "outputs": [
        {
          "data": {
            "text/plain": [
              "array([ 9, 12])"
            ]
          },
          "execution_count": 223,
          "metadata": {},
          "output_type": "execute_result"
        }
      ],
      "source": [
        "a.sum(axis=0)"
      ]
    },
    {
      "cell_type": "code",
      "execution_count": 224,
      "metadata": {
        "colab": {
          "base_uri": "https://localhost:8080/"
        },
        "id": "ISmOvJxpzbRI",
        "outputId": "4724b3cb-b272-4105-fee1-febc1fa6b01e"
      },
      "outputs": [
        {
          "data": {
            "text/plain": [
              "array([ 3,  7, 11])"
            ]
          },
          "execution_count": 224,
          "metadata": {},
          "output_type": "execute_result"
        }
      ],
      "source": [
        "a.sum(axis=1)"
      ]
    },
    {
      "cell_type": "code",
      "execution_count": 225,
      "metadata": {
        "colab": {
          "base_uri": "https://localhost:8080/"
        },
        "id": "eO_YVpTB3_-u",
        "outputId": "f5b2ab48-374e-4fe3-c66a-c83d0e04579e"
      },
      "outputs": [
        {
          "data": {
            "text/plain": [
              "array([[1, 2],\n",
              "       [3, 4],\n",
              "       [5, 6]])"
            ]
          },
          "execution_count": 225,
          "metadata": {},
          "output_type": "execute_result"
        }
      ],
      "source": [
        "a"
      ]
    },
    {
      "cell_type": "code",
      "execution_count": 226,
      "metadata": {
        "colab": {
          "base_uri": "https://localhost:8080/"
        },
        "id": "X4QAO_1wzbNl",
        "outputId": "67db3d4e-47f7-45c3-daf0-5985170922d9"
      },
      "outputs": [
        {
          "data": {
            "text/plain": [
              "array([[1.        , 1.41421356],\n",
              "       [1.73205081, 2.        ],\n",
              "       [2.23606798, 2.44948974]])"
            ]
          },
          "execution_count": 226,
          "metadata": {},
          "output_type": "execute_result"
        }
      ],
      "source": [
        "# Square root\n",
        "\n",
        "np.sqrt(a)"
      ]
    },
    {
      "cell_type": "code",
      "execution_count": 228,
      "metadata": {
        "colab": {
          "base_uri": "https://localhost:8080/"
        },
        "id": "Iz2WANUpzbKj",
        "outputId": "b1359a12-e57c-4741-8cb3-96da2c91d50c"
      },
      "outputs": [
        {
          "data": {
            "text/plain": [
              "np.float64(1.707825127659933)"
            ]
          },
          "execution_count": 228,
          "metadata": {},
          "output_type": "execute_result"
        }
      ],
      "source": [
        "# standard deviation\n",
        "np.std(a)"
      ]
    },
    {
      "cell_type": "markdown",
      "metadata": {
        "id": "wljnkwts4DDK"
      },
      "source": [
        "### Operations in Array"
      ]
    },
    {
      "cell_type": "code",
      "execution_count": 230,
      "metadata": {
        "colab": {
          "base_uri": "https://localhost:8080/"
        },
        "id": "QSIMbt7y4C_1",
        "outputId": "062a9f79-2796-4aa2-f6fe-630b706104b0"
      },
      "outputs": [
        {
          "name": "stdout",
          "output_type": "stream",
          "text": [
            "[[1 2]\n",
            " [3 4]]\n",
            "[[5 6]\n",
            " [7 8]]\n"
          ]
        }
      ],
      "source": [
        "a = np.array([[1,2], [3,4]])\n",
        "b = np.array([[5,6], [7,8]])\n",
        "\n",
        "print(a)\n",
        "print(b)"
      ]
    },
    {
      "cell_type": "code",
      "execution_count": 231,
      "metadata": {
        "colab": {
          "base_uri": "https://localhost:8080/"
        },
        "id": "Ucg3qeyM4C82",
        "outputId": "c6cebf95-7ab4-4e6c-8d5f-1cbc7687ab42"
      },
      "outputs": [
        {
          "data": {
            "text/plain": [
              "array([[ 6,  8],\n",
              "       [10, 12]])"
            ]
          },
          "execution_count": 231,
          "metadata": {},
          "output_type": "execute_result"
        }
      ],
      "source": [
        "a+b"
      ]
    },
    {
      "cell_type": "code",
      "execution_count": 232,
      "metadata": {
        "colab": {
          "base_uri": "https://localhost:8080/"
        },
        "id": "vdf1ydfe5AC7",
        "outputId": "42500130-71b2-4252-cd8a-20039c70d79a"
      },
      "outputs": [
        {
          "data": {
            "text/plain": [
              "array([[-4, -4],\n",
              "       [-4, -4]])"
            ]
          },
          "execution_count": 232,
          "metadata": {},
          "output_type": "execute_result"
        }
      ],
      "source": [
        "a-b"
      ]
    },
    {
      "cell_type": "code",
      "execution_count": 233,
      "metadata": {
        "colab": {
          "base_uri": "https://localhost:8080/"
        },
        "id": "0GLci9QC5A1w",
        "outputId": "5b218b64-b8ae-48e0-f934-679963712072"
      },
      "outputs": [
        {
          "data": {
            "text/plain": [
              "array([[ 5, 12],\n",
              "       [21, 32]])"
            ]
          },
          "execution_count": 233,
          "metadata": {},
          "output_type": "execute_result"
        }
      ],
      "source": [
        "a*b"
      ]
    },
    {
      "cell_type": "code",
      "execution_count": 234,
      "metadata": {
        "colab": {
          "base_uri": "https://localhost:8080/"
        },
        "id": "8FEXOOz85Dfy",
        "outputId": "2741fbeb-ec0f-4107-869d-4568232faa50"
      },
      "outputs": [
        {
          "data": {
            "text/plain": [
              "array([[0.2       , 0.33333333],\n",
              "       [0.42857143, 0.5       ]])"
            ]
          },
          "execution_count": 234,
          "metadata": {},
          "output_type": "execute_result"
        }
      ],
      "source": [
        "a/b"
      ]
    },
    {
      "cell_type": "code",
      "execution_count": 235,
      "metadata": {
        "colab": {
          "base_uri": "https://localhost:8080/"
        },
        "id": "zxv5q8Lp5EYA",
        "outputId": "23375ffa-120c-4091-ed07-7bea7088df35"
      },
      "outputs": [
        {
          "data": {
            "text/plain": [
              "array([[19, 22],\n",
              "       [43, 50]])"
            ]
          },
          "execution_count": 235,
          "metadata": {},
          "output_type": "execute_result"
        }
      ],
      "source": [
        "# dot product\n",
        "a.dot(b)"
      ]
    },
    {
      "cell_type": "code",
      "execution_count": 235,
      "metadata": {
        "id": "bo2I5yRF5Fsw"
      },
      "outputs": [],
      "source": []
    }
  ],
  "metadata": {
    "colab": {
      "authorship_tag": "ABX9TyMafj2/Phhl9AUT1cg4fhuz",
      "provenance": []
    },
    "kernelspec": {
      "display_name": "Python 3",
      "name": "python3"
    },
    "language_info": {
      "name": "python"
    }
  },
  "nbformat": 4,
  "nbformat_minor": 0
}
